{
 "cells": [
  {
   "cell_type": "code",
   "execution_count": 1,
   "metadata": {},
   "outputs": [],
   "source": [
    "import pandas as pd\n",
    "import numpy as np"
   ]
  },
  {
   "cell_type": "markdown",
   "metadata": {},
   "source": [
    "- bike.csv 파일을 읽고 데이터프레임(변수명:df)으로 저장"
   ]
  },
  {
   "cell_type": "code",
   "execution_count": 2,
   "metadata": {},
   "outputs": [],
   "source": [
    "df = pd.read_csv(\"bike.csv\",parse_dates=['datetime'])"
   ]
  },
  {
   "cell_type": "markdown",
   "metadata": {},
   "source": [
    "season 컬럼\n",
    "\n",
    "- season 종류 별 데이터 건수 출력"
   ]
  },
  {
   "cell_type": "code",
   "execution_count": 5,
   "metadata": {},
   "outputs": [
    {
     "data": {
      "text/html": [
       "<div>\n",
       "<style scoped>\n",
       "    .dataframe tbody tr th:only-of-type {\n",
       "        vertical-align: middle;\n",
       "    }\n",
       "\n",
       "    .dataframe tbody tr th {\n",
       "        vertical-align: top;\n",
       "    }\n",
       "\n",
       "    .dataframe thead th {\n",
       "        text-align: right;\n",
       "    }\n",
       "</style>\n",
       "<table border=\"1\" class=\"dataframe\">\n",
       "  <thead>\n",
       "    <tr style=\"text-align: right;\">\n",
       "      <th></th>\n",
       "      <th>datetime</th>\n",
       "      <th>season</th>\n",
       "      <th>holiday</th>\n",
       "      <th>workingday</th>\n",
       "      <th>weather</th>\n",
       "      <th>temp</th>\n",
       "      <th>atemp</th>\n",
       "      <th>humidity</th>\n",
       "      <th>windspeed</th>\n",
       "      <th>casual</th>\n",
       "      <th>registered</th>\n",
       "      <th>count</th>\n",
       "    </tr>\n",
       "  </thead>\n",
       "  <tbody>\n",
       "    <tr>\n",
       "      <th>0</th>\n",
       "      <td>2011-01-01 00:00:00</td>\n",
       "      <td>1</td>\n",
       "      <td>0</td>\n",
       "      <td>0</td>\n",
       "      <td>1</td>\n",
       "      <td>9.84</td>\n",
       "      <td>14.395</td>\n",
       "      <td>81</td>\n",
       "      <td>0.0</td>\n",
       "      <td>3</td>\n",
       "      <td>13</td>\n",
       "      <td>16</td>\n",
       "    </tr>\n",
       "    <tr>\n",
       "      <th>1</th>\n",
       "      <td>2011-01-01 01:00:00</td>\n",
       "      <td>1</td>\n",
       "      <td>0</td>\n",
       "      <td>0</td>\n",
       "      <td>1</td>\n",
       "      <td>9.02</td>\n",
       "      <td>13.635</td>\n",
       "      <td>80</td>\n",
       "      <td>0.0</td>\n",
       "      <td>8</td>\n",
       "      <td>32</td>\n",
       "      <td>40</td>\n",
       "    </tr>\n",
       "    <tr>\n",
       "      <th>2</th>\n",
       "      <td>2011-01-01 02:00:00</td>\n",
       "      <td>1</td>\n",
       "      <td>0</td>\n",
       "      <td>0</td>\n",
       "      <td>1</td>\n",
       "      <td>9.02</td>\n",
       "      <td>13.635</td>\n",
       "      <td>80</td>\n",
       "      <td>0.0</td>\n",
       "      <td>5</td>\n",
       "      <td>27</td>\n",
       "      <td>32</td>\n",
       "    </tr>\n",
       "    <tr>\n",
       "      <th>3</th>\n",
       "      <td>2011-01-01 03:00:00</td>\n",
       "      <td>1</td>\n",
       "      <td>0</td>\n",
       "      <td>0</td>\n",
       "      <td>1</td>\n",
       "      <td>9.84</td>\n",
       "      <td>14.395</td>\n",
       "      <td>75</td>\n",
       "      <td>0.0</td>\n",
       "      <td>3</td>\n",
       "      <td>10</td>\n",
       "      <td>13</td>\n",
       "    </tr>\n",
       "    <tr>\n",
       "      <th>4</th>\n",
       "      <td>2011-01-01 04:00:00</td>\n",
       "      <td>1</td>\n",
       "      <td>0</td>\n",
       "      <td>0</td>\n",
       "      <td>1</td>\n",
       "      <td>9.84</td>\n",
       "      <td>14.395</td>\n",
       "      <td>75</td>\n",
       "      <td>0.0</td>\n",
       "      <td>0</td>\n",
       "      <td>1</td>\n",
       "      <td>1</td>\n",
       "    </tr>\n",
       "  </tbody>\n",
       "</table>\n",
       "</div>"
      ],
      "text/plain": [
       "             datetime  season  holiday  workingday  weather  temp   atemp  \\\n",
       "0 2011-01-01 00:00:00       1        0           0        1  9.84  14.395   \n",
       "1 2011-01-01 01:00:00       1        0           0        1  9.02  13.635   \n",
       "2 2011-01-01 02:00:00       1        0           0        1  9.02  13.635   \n",
       "3 2011-01-01 03:00:00       1        0           0        1  9.84  14.395   \n",
       "4 2011-01-01 04:00:00       1        0           0        1  9.84  14.395   \n",
       "\n",
       "   humidity  windspeed  casual  registered  count  \n",
       "0        81        0.0       3          13     16  \n",
       "1        80        0.0       8          32     40  \n",
       "2        80        0.0       5          27     32  \n",
       "3        75        0.0       3          10     13  \n",
       "4        75        0.0       0           1      1  "
      ]
     },
     "execution_count": 5,
     "metadata": {},
     "output_type": "execute_result"
    }
   ],
   "source": [
    "df.head()"
   ]
  },
  {
   "cell_type": "code",
   "execution_count": 12,
   "metadata": {},
   "outputs": [
    {
     "data": {
      "text/plain": [
       "4    2734\n",
       "3    2733\n",
       "2    2733\n",
       "1    2686\n",
       "Name: season, dtype: int64"
      ]
     },
     "execution_count": 12,
     "metadata": {},
     "output_type": "execute_result"
    }
   ],
   "source": [
    "df.season.value_counts()"
   ]
  },
  {
   "cell_type": "markdown",
   "metadata": {},
   "source": [
    "temp 컬럼\n",
    "\n",
    "- 최대, 최소, 평균, 중앙값, 표준편차 출력\n",
    "\n",
    "- 월별 temp 평균 온도 출력\n",
    "\n",
    "- temp 컬럼 값을 0-10, 10-20, 20-30 구간으로 나눈다음, 구간별 데이터 건수를 출력"
   ]
  },
  {
   "cell_type": "code",
   "execution_count": 8,
   "metadata": {},
   "outputs": [
    {
     "data": {
      "text/plain": [
       "count    10886.00000\n",
       "mean        20.23086\n",
       "std          7.79159\n",
       "min          0.82000\n",
       "25%         13.94000\n",
       "50%         20.50000\n",
       "75%         26.24000\n",
       "max         41.00000\n",
       "Name: temp, dtype: float64"
      ]
     },
     "execution_count": 8,
     "metadata": {},
     "output_type": "execute_result"
    }
   ],
   "source": [
    "df.temp.describe()"
   ]
  },
  {
   "cell_type": "code",
   "execution_count": 16,
   "metadata": {},
   "outputs": [
    {
     "data": {
      "text/plain": [
       "datetime\n",
       "1      9.840000\n",
       "2     11.798535\n",
       "3     15.902175\n",
       "4     18.718372\n",
       "5     22.674079\n",
       "6     27.064496\n",
       "7     30.841711\n",
       "8     29.736689\n",
       "9     25.779032\n",
       "10    20.933853\n",
       "11    15.185752\n",
       "12    13.831206\n",
       "Name: temp, dtype: float64"
      ]
     },
     "execution_count": 16,
     "metadata": {},
     "output_type": "execute_result"
    }
   ],
   "source": [
    "df.groupby(df['datetime'].dt.month)['temp'].mean()"
   ]
  },
  {
   "cell_type": "code",
   "execution_count": 19,
   "metadata": {},
   "outputs": [
    {
     "data": {
      "text/plain": [
       "(20, 30]    4334\n",
       "(10, 20]    4049\n",
       "(0, 10]     1259\n",
       "Name: temp, dtype: int64"
      ]
     },
     "execution_count": 19,
     "metadata": {},
     "output_type": "execute_result"
    }
   ],
   "source": [
    "pd.cut(df.temp,bins=[0,10,20,30]).value_counts()"
   ]
  },
  {
   "cell_type": "markdown",
   "metadata": {},
   "source": [
    "windspeed 컬럼\n",
    "\n",
    "- 0으로 되어 있는 값의 개수를 세어 출력\n",
    "\n",
    "- 월별 windspeed 평균 풍속 출력(0 제외)\n"
   ]
  },
  {
   "cell_type": "code",
   "execution_count": 40,
   "metadata": {},
   "outputs": [
    {
     "data": {
      "text/plain": [
       "1313"
      ]
     },
     "execution_count": 40,
     "metadata": {},
     "output_type": "execute_result"
    }
   ],
   "source": [
    "df.windspeed.value_counts()[0]"
   ]
  },
  {
   "cell_type": "code",
   "execution_count": 46,
   "metadata": {},
   "outputs": [
    {
     "data": {
      "text/plain": [
       "datetime\n",
       "1     14.582959\n",
       "2     13.963707\n",
       "3     15.363249\n",
       "4     15.581090\n",
       "5     12.293956\n",
       "6     12.348930\n",
       "7     11.019928\n",
       "8     11.931179\n",
       "9     11.575698\n",
       "10    11.226457\n",
       "11    13.126587\n",
       "12    10.682489\n",
       "Name: windspeed, dtype: float64"
      ]
     },
     "execution_count": 46,
     "metadata": {},
     "output_type": "execute_result"
    }
   ],
   "source": [
    "df.groupby(df['datetime'].dt.month)['windspeed'].mean()"
   ]
  },
  {
   "cell_type": "markdown",
   "metadata": {},
   "source": [
    "weather 컬럼\n",
    "\n",
    "- weather 종류 별 데이터 건수 출력"
   ]
  },
  {
   "cell_type": "code",
   "execution_count": 130,
   "metadata": {},
   "outputs": [
    {
     "data": {
      "text/plain": [
       "1    7192\n",
       "2    2834\n",
       "3     859\n",
       "4       1\n",
       "Name: weather, dtype: int64"
      ]
     },
     "execution_count": 130,
     "metadata": {},
     "output_type": "execute_result"
    }
   ],
   "source": [
    "df.weather.value_counts()"
   ]
  },
  {
   "cell_type": "markdown",
   "metadata": {},
   "source": [
    "humidity 컬럼\n",
    "\n",
    "- 2011년 평균 습도 출력\n",
    "\n",
    "- 2012년 평균 습도 출력\n",
    "\n",
    "- 연도와 관계없이 월별 평균 습도 출력\n",
    "\n",
    "- 표준편차 출력(연도별)"
   ]
  },
  {
   "cell_type": "code",
   "execution_count": 54,
   "metadata": {},
   "outputs": [
    {
     "data": {
      "text/plain": [
       "63.40501659904094"
      ]
     },
     "execution_count": 54,
     "metadata": {},
     "output_type": "execute_result"
    }
   ],
   "source": [
    "df.groupby(df['datetime'].dt.year)['humidity'].mean()[2011]"
   ]
  },
  {
   "cell_type": "code",
   "execution_count": 55,
   "metadata": {},
   "outputs": [
    {
     "data": {
      "text/plain": [
       "60.37957540263543"
      ]
     },
     "execution_count": 55,
     "metadata": {},
     "output_type": "execute_result"
    }
   ],
   "source": [
    "df.groupby(df['datetime'].dt.year)['humidity'].mean()[2012]"
   ]
  },
  {
   "cell_type": "code",
   "execution_count": 72,
   "metadata": {},
   "outputs": [
    {
     "data": {
      "text/plain": [
       "datetime\n",
       "1     55.911765\n",
       "2     56.296337\n",
       "3     56.678135\n",
       "4     55.697470\n",
       "5     68.084430\n",
       "6     58.759868\n",
       "7     58.402412\n",
       "8     63.010965\n",
       "9     70.980198\n",
       "10    69.412733\n",
       "11    60.722283\n",
       "12    68.383772\n",
       "Name: humidity, dtype: float64"
      ]
     },
     "execution_count": 72,
     "metadata": {},
     "output_type": "execute_result"
    }
   ],
   "source": [
    "df.groupby(df.datetime.dt.month)['humidity'].mean()"
   ]
  },
  {
   "cell_type": "code",
   "execution_count": 74,
   "metadata": {},
   "outputs": [
    {
     "data": {
      "text/plain": [
       "datetime\n",
       "2011    19.780518\n",
       "2012    18.578008\n",
       "Name: humidity, dtype: float64"
      ]
     },
     "execution_count": 74,
     "metadata": {},
     "output_type": "execute_result"
    }
   ],
   "source": [
    "df.groupby(df.datetime.dt.year)['humidity'].std()"
   ]
  },
  {
   "cell_type": "markdown",
   "metadata": {},
   "source": [
    "datetime 컬럼\n",
    "\n",
    "- 월별(01~12) 평균 count 출력\n",
    "\n",
    "- 일별(01~19) 평균 count 출력\n",
    "\n",
    "- 시각별(0~23) 평균 count 출력\n",
    "\n",
    "- 평균 count값이 가장 큰 월 출력\n",
    "\n",
    "- 평균 count값이 가장 큰 시각 출력\n"
   ]
  },
  {
   "cell_type": "code",
   "execution_count": 67,
   "metadata": {},
   "outputs": [
    {
     "data": {
      "text/plain": [
       "datetime\n",
       "1      90.366516\n",
       "2     110.003330\n",
       "3     148.169811\n",
       "4     184.160616\n",
       "5     219.459430\n",
       "6     242.031798\n",
       "7     235.325658\n",
       "8     234.118421\n",
       "9     233.805281\n",
       "10    227.699232\n",
       "11    193.677278\n",
       "12    175.614035\n",
       "Name: count, dtype: float64"
      ]
     },
     "execution_count": 67,
     "metadata": {},
     "output_type": "execute_result"
    }
   ],
   "source": [
    "df.groupby(df.datetime.dt.month)['count'].mean()"
   ]
  },
  {
   "cell_type": "code",
   "execution_count": 69,
   "metadata": {},
   "outputs": [
    {
     "data": {
      "text/plain": [
       "datetime\n",
       "1     180.333913\n",
       "2     183.910995\n",
       "3     194.696335\n",
       "4     195.705575\n",
       "5     189.765217\n",
       "6     189.860140\n",
       "7     183.773519\n",
       "8     179.041812\n",
       "9     187.897391\n",
       "10    195.183566\n",
       "11    195.679577\n",
       "12    190.675393\n",
       "13    194.160279\n",
       "14    195.829268\n",
       "15    201.527875\n",
       "16    191.353659\n",
       "17    205.660870\n",
       "18    192.605684\n",
       "19    192.311847\n",
       "Name: count, dtype: float64"
      ]
     },
     "execution_count": 69,
     "metadata": {},
     "output_type": "execute_result"
    }
   ],
   "source": [
    "df.groupby(df.datetime.dt.day)['count'].mean()"
   ]
  },
  {
   "cell_type": "code",
   "execution_count": 70,
   "metadata": {},
   "outputs": [
    {
     "data": {
      "text/plain": [
       "datetime\n",
       "00:00:00     55.138462\n",
       "01:00:00     33.859031\n",
       "02:00:00     22.899554\n",
       "03:00:00     11.757506\n",
       "04:00:00      6.407240\n",
       "05:00:00     19.767699\n",
       "06:00:00     76.259341\n",
       "07:00:00    213.116484\n",
       "08:00:00    362.769231\n",
       "09:00:00    221.780220\n",
       "10:00:00    175.092308\n",
       "11:00:00    210.674725\n",
       "12:00:00    256.508772\n",
       "13:00:00    257.787281\n",
       "14:00:00    243.442982\n",
       "15:00:00    254.298246\n",
       "16:00:00    316.372807\n",
       "17:00:00    468.765351\n",
       "18:00:00    430.859649\n",
       "19:00:00    315.278509\n",
       "20:00:00    228.517544\n",
       "21:00:00    173.370614\n",
       "22:00:00    133.576754\n",
       "23:00:00     89.508772\n",
       "Name: count, dtype: float64"
      ]
     },
     "execution_count": 70,
     "metadata": {},
     "output_type": "execute_result"
    }
   ],
   "source": [
    "df.groupby(df.datetime.dt.time)['count'].mean()"
   ]
  },
  {
   "cell_type": "code",
   "execution_count": 77,
   "metadata": {},
   "outputs": [
    {
     "data": {
      "text/plain": [
       "6"
      ]
     },
     "execution_count": 77,
     "metadata": {},
     "output_type": "execute_result"
    }
   ],
   "source": [
    "df.groupby(df.datetime.dt.month)['count'].mean().idxmax()"
   ]
  },
  {
   "cell_type": "code",
   "execution_count": 78,
   "metadata": {},
   "outputs": [
    {
     "data": {
      "text/plain": [
       "datetime.time(17, 0)"
      ]
     },
     "execution_count": 78,
     "metadata": {},
     "output_type": "execute_result"
    }
   ],
   "source": [
    "df.groupby(df.datetime.dt.time)['count'].mean().idxmax()"
   ]
  },
  {
   "cell_type": "markdown",
   "metadata": {},
   "source": [
    "상관분석 \n",
    "\n",
    "- temp와 count 간 상관 계수 출력\n",
    "\n",
    "- humidity와 count 간 상관 계수 출력\n",
    "\n",
    "- weather와 count 간 상관 계수 출력\n",
    "\n",
    "- windspeed와 count 간 상관 계수 출력\n",
    "\n",
    "- 위 4개의 features 중에서 상관 계수가 가장 큰 feature 출력"
   ]
  },
  {
   "cell_type": "code",
   "execution_count": 120,
   "metadata": {},
   "outputs": [
    {
     "data": {
      "text/plain": [
       "array([[1.        , 0.39445364],\n",
       "       [0.39445364, 1.        ]])"
      ]
     },
     "execution_count": 120,
     "metadata": {},
     "output_type": "execute_result"
    }
   ],
   "source": [
    "np.corrcoef(df['temp'],df['count'])"
   ]
  },
  {
   "cell_type": "code",
   "execution_count": 121,
   "metadata": {},
   "outputs": [
    {
     "data": {
      "text/plain": [
       "array([[ 1.        , -0.31737148],\n",
       "       [-0.31737148,  1.        ]])"
      ]
     },
     "execution_count": 121,
     "metadata": {},
     "output_type": "execute_result"
    }
   ],
   "source": [
    "np.corrcoef(df['humidity'],df['count'])"
   ]
  },
  {
   "cell_type": "code",
   "execution_count": 122,
   "metadata": {},
   "outputs": [
    {
     "data": {
      "text/plain": [
       "array([[ 1.       , -0.1286552],\n",
       "       [-0.1286552,  1.       ]])"
      ]
     },
     "execution_count": 122,
     "metadata": {},
     "output_type": "execute_result"
    }
   ],
   "source": [
    "np.corrcoef(df['weather'],df['count'])"
   ]
  },
  {
   "cell_type": "code",
   "execution_count": 123,
   "metadata": {},
   "outputs": [
    {
     "data": {
      "text/plain": [
       "array([[1.        , 0.10136947],\n",
       "       [0.10136947, 1.        ]])"
      ]
     },
     "execution_count": 123,
     "metadata": {},
     "output_type": "execute_result"
    }
   ],
   "source": [
    "np.corrcoef(df['windspeed'],df['count'])"
   ]
  },
  {
   "cell_type": "code",
   "execution_count": 129,
   "metadata": {},
   "outputs": [
    {
     "name": "stdout",
     "output_type": "stream",
     "text": [
      "              count      temp  humidity   weather  windspeed\n",
      "count      1.000000  0.394454 -0.317371 -0.128655   0.101369\n",
      "temp       0.394454  1.000000 -0.064949 -0.055035  -0.017852\n",
      "humidity  -0.317371 -0.064949  1.000000  0.406244  -0.318607\n",
      "weather   -0.128655 -0.055035  0.406244  1.000000   0.007261\n",
      "windspeed  0.101369 -0.017852 -0.318607  0.007261   1.000000\n"
     ]
    },
    {
     "data": {
      "text/plain": [
       "'temp'"
      ]
     },
     "execution_count": 129,
     "metadata": {},
     "output_type": "execute_result"
    }
   ],
   "source": [
    "cor = df[['count','temp','humidity','weather','windspeed']].corr()\n",
    "print(cor)\n",
    "abs(cor.where(cor!=1,np.nan)['count']).idxmax()"
   ]
  }
 ],
 "metadata": {
  "kernelspec": {
   "display_name": "Python 3",
   "language": "python",
   "name": "python3"
  },
  "language_info": {
   "codemirror_mode": {
    "name": "ipython",
    "version": 3
   },
   "file_extension": ".py",
   "mimetype": "text/x-python",
   "name": "python",
   "nbconvert_exporter": "python",
   "pygments_lexer": "ipython3",
   "version": "3.7.3"
  }
 },
 "nbformat": 4,
 "nbformat_minor": 2
}
